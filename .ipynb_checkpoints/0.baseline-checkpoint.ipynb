{
 "cells": [
  {
   "cell_type": "code",
   "execution_count": 2,
   "id": "a04bcfb1-d5fe-4e3e-9d6d-d64894f8ce9c",
   "metadata": {},
   "outputs": [
    {
     "name": "stdout",
     "output_type": "stream",
     "text": [
      "Processing ./dacon_submit_api-0.0.4-py3-none-any.whl\n",
      "Installing collected packages: dacon-submit-api\n",
      "Successfully installed dacon-submit-api-0.0.4\n"
     ]
    }
   ],
   "source": []
  },
  {
   "cell_type": "code",
   "execution_count": null,
   "id": "eb3deb67-e7c1-4fa6-9223-18e28d0e153e",
   "metadata": {},
   "outputs": [],
   "source": []
  }
 ],
 "metadata": {
  "kernelspec": {
   "display_name": "Python 3 (ipykernel)",
   "language": "python",
   "name": "python3"
  },
  "language_info": {
   "codemirror_mode": {
    "name": "ipython",
    "version": 3
   },
   "file_extension": ".py",
   "mimetype": "text/x-python",
   "name": "python",
   "nbconvert_exporter": "python",
   "pygments_lexer": "ipython3",
   "version": "3.8.12"
  }
 },
 "nbformat": 4,
 "nbformat_minor": 5
}
